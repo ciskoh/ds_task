{
 "cells": [
  {
   "attachments": {},
   "cell_type": "markdown",
   "metadata": {},
   "source": [
    "# Model run examples\n",
    "\n",
    "This showcases how the python implementation of the model by Alllison et al 2010 can be run on different type of inputs"
   ]
  },
  {
   "cell_type": "code",
   "execution_count": 1,
   "metadata": {},
   "outputs": [],
   "source": [
    "from model import (\n",
    "    ModelRunner,\n",
    "    EnzymeCatalysis,\n",
    "    Uptake,\n",
    "    CarbonUse,\n",
    "    EnzymeProductionDecay,\n",
    "    MicDeath\n",
    ")"
   ]
  },
  {
   "cell_type": "code",
   "execution_count": 3,
   "metadata": {},
   "outputs": [],
   "source": [
    "# Running with single dtemp /dt\n",
    "\n",
    "# initial sysvar are taken from  Allison et al 2010. Supp mat.\n",
    "initial_sysvar = {\n",
    "    \"soc\": 100,\n",
    "    \"doc\": .5,\n",
    "    \"mic\": .5,\n",
    "    \"temp\":20\n",
    "}\n",
    "\n",
    "my_model = ModelRunner()\n"
   ]
  },
  {
   "cell_type": "code",
   "execution_count": null,
   "metadata": {},
   "outputs": [],
   "source": []
  }
 ],
 "metadata": {
  "kernelspec": {
   "display_name": "dstask",
   "language": "python",
   "name": "python3"
  },
  "language_info": {
   "codemirror_mode": {
    "name": "ipython",
    "version": 3
   },
   "file_extension": ".py",
   "mimetype": "text/x-python",
   "name": "python",
   "nbconvert_exporter": "python",
   "pygments_lexer": "ipython3",
   "version": "3.11.3"
  },
  "orig_nbformat": 4
 },
 "nbformat": 4,
 "nbformat_minor": 2
}
